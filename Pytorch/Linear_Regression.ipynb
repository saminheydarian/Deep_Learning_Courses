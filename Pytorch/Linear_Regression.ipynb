{
 "cells": [
  {
   "cell_type": "code",
   "execution_count": 1,
   "metadata": {},
   "outputs": [],
   "source": [
    "import torch\n",
    "import torch.nn as nn\n",
    "import numpy as np\n",
    "import matplotlib.pyplot as plt"
   ]
  },
  {
   "cell_type": "code",
   "execution_count": 2,
   "metadata": {},
   "outputs": [
    {
     "data": {
      "image/png": "[encoded data removed]",
      "text/plain": [
       "<Figure size 432x288 with 1 Axes>"
      ]
     },
     "metadata": {
      "needs_background": "light"
     },
     "output_type": "display_data"
    }
   ],
   "source": [
    "N = 20\n",
    "# random data on the x-axis in (-5, +5)\n",
    "X = np.random.random(N)*10 - 5\n",
    "\n",
    "# a line plus some noise\n",
    "Y = 0.5 * X - 1 + np.random.randn(N)\n",
    "\n",
    "plt.scatter(X, Y);"
   ]
  },
  {
   "cell_type": "code",
   "execution_count": 3,
   "metadata": {},
   "outputs": [],
   "source": [
    "# linear regression\n",
    "model = nn.Linear(1, 1)"
   ]
  },
  {
   "cell_type": "code",
   "execution_count": 4,
   "metadata": {},
   "outputs": [],
   "source": [
    "criterion = nn.MSELoss()\n",
    "optimizer = torch.optim.SGD(model.parameters(), lr=0.1)"
   ]
  },
  {
   "cell_type": "code",
   "execution_count": 5,
   "metadata": {},
   "outputs": [
    {
     "data": {
      "text/plain": [
       "(20,)"
      ]
     },
     "execution_count": 5,
     "metadata": {},
     "output_type": "execute_result"
    }
   ],
   "source": [
    "X.shape"
   ]
  },
  {
   "cell_type": "code",
   "execution_count": 6,
   "metadata": {},
   "outputs": [
    {
     "data": {
      "text/plain": [
       "(20,)"
      ]
     },
     "execution_count": 6,
     "metadata": {},
     "output_type": "execute_result"
    }
   ],
   "source": [
    "Y.shape"
   ]
  },
  {
   "cell_type": "code",
   "execution_count": 7,
   "metadata": {},
   "outputs": [],
   "source": [
    "X = X.reshape(N, 1)\n",
    "Y = Y.reshape(N, 1)\n",
    "\n",
    "inputs = torch.from_numpy(X.astype(np.float32))\n",
    "targets = torch.from_numpy(Y.astype(np.float32))"
   ]
  },
  {
   "cell_type": "code",
   "execution_count": 8,
   "metadata": {},
   "outputs": [
    {
     "name": "stdout",
     "output_type": "stream",
     "text": [
      "(20, 1)\n",
      "(20, 1)\n"
     ]
    }
   ],
   "source": [
    "print(X.shape)\n",
    "print(Y.shape)"
   ]
  },
  {
   "cell_type": "code",
   "execution_count": 9,
   "metadata": {},
   "outputs": [
    {
     "data": {
      "text/plain": [
       "torch.Tensor"
      ]
     },
     "execution_count": 9,
     "metadata": {},
     "output_type": "execute_result"
    }
   ],
   "source": [
    "type(inputs)"
   ]
  },
  {
   "cell_type": "code",
   "execution_count": 10,
   "metadata": {},
   "outputs": [
    {
     "name": "stdout",
     "output_type": "stream",
     "text": [
      "Epoch 1/30, Loss: 4.2015\n",
      "Epoch 2/30, Loss: 3.1762\n",
      "Epoch 3/30, Loss: 2.5330\n",
      "Epoch 4/30, Loss: 2.1226\n",
      "Epoch 5/30, Loss: 1.8594\n",
      "Epoch 6/30, Loss: 1.6904\n",
      "Epoch 7/30, Loss: 1.5819\n",
      "Epoch 8/30, Loss: 1.5121\n",
      "Epoch 9/30, Loss: 1.4673\n",
      "Epoch 10/30, Loss: 1.4386\n",
      "Epoch 11/30, Loss: 1.4201\n",
      "Epoch 12/30, Loss: 1.4082\n",
      "Epoch 13/30, Loss: 1.4006\n",
      "Epoch 14/30, Loss: 1.3957\n",
      "Epoch 15/30, Loss: 1.3925\n",
      "Epoch 16/30, Loss: 1.3905\n",
      "Epoch 17/30, Loss: 1.3892\n",
      "Epoch 18/30, Loss: 1.3883\n",
      "Epoch 19/30, Loss: 1.3878\n",
      "Epoch 20/30, Loss: 1.3875\n",
      "Epoch 21/30, Loss: 1.3872\n",
      "Epoch 22/30, Loss: 1.3871\n",
      "Epoch 23/30, Loss: 1.3870\n",
      "Epoch 24/30, Loss: 1.3870\n",
      "Epoch 25/30, Loss: 1.3869\n",
      "Epoch 26/30, Loss: 1.3869\n",
      "Epoch 27/30, Loss: 1.3869\n",
      "Epoch 28/30, Loss: 1.3869\n",
      "Epoch 29/30, Loss: 1.3869\n",
      "Epoch 30/30, Loss: 1.3869\n"
     ]
    },
    {
     "name": "stderr",
     "output_type": "stream",
     "text": [
      "C:\\Users\\Samin\\Anaconda3\\envs\\Kaggle-Competitions\\lib\\site-packages\\torch\\autograd\\__init__.py:149: UserWarning: CUDA initialization: The NVIDIA driver on your system is too old (found version 9010). Please update your GPU driver by downloading and installing a new version from the URL: http://www.nvidia.com/Download/index.aspx Alternatively, go to: https://pytorch.org to install a PyTorch version that has been compiled with your version of the CUDA driver. (Triggered internally at  ..\\c10\\cuda\\CUDAFunctions.cpp:115.)\n",
      "  allow_unreachable=True, accumulate_grad=True)  # allow_unreachable flag\n"
     ]
    }
   ],
   "source": [
    "n_epochs = 30\n",
    "losses = []\n",
    "for it in range(n_epochs):\n",
    "    # zero the parameter gradients to prevent them from accumulating\n",
    "    optimizer.zero_grad()\n",
    "    \n",
    "    # forward pass\n",
    "    outputs = model(inputs)\n",
    "    loss = criterion(outputs, targets)\n",
    "    \n",
    "    # use item to bring back single number from pytorch to python\n",
    "    losses.append(loss.item())\n",
    "    \n",
    "    loss.backward()\n",
    "    \n",
    "    # to do one step of gd\n",
    "    optimizer.step()\n",
    "    \n",
    "    print(f'Epoch {it+1}/{n_epochs}, Loss: {loss.item():.4f}')"
   ]
  },
  {
   "cell_type": "code",
   "execution_count": 11,
   "metadata": {},
   "outputs": [
    {
     "data": {
      "image/png": "[encoded data removed]",
      "text/plain": [
       "<Figure size 432x288 with 1 Axes>"
      ]
     },
     "metadata": {
      "needs_background": "light"
     },
     "output_type": "display_data"
    }
   ],
   "source": [
    "plt.plot(losses);"
   ]
  },
  {
   "cell_type": "code",
   "execution_count": 13,
   "metadata": {},
   "outputs": [
    {
     "data": {
      "image/png": "[encoded data removed]",
      "text/plain": [
       "<Figure size 432x288 with 1 Axes>"
      ]
     },
     "metadata": {
      "needs_background": "light"
     },
     "output_type": "display_data"
    }
   ],
   "source": [
    "predicted = model(inputs).detach().numpy()\n",
    "plt.scatter(X, Y, label='Orginal data')\n",
    "plt.plot(X, predicted, label='Fitted line')\n",
    "plt.legend()\n",
    "plt.show()"
   ]
  },
  {
   "cell_type": "code",
   "execution_count": 14,
   "metadata": {},
   "outputs": [
    {
     "ename": "RuntimeError",
     "evalue": "Can't call numpy() on Tensor that requires grad. Use tensor.detach().numpy() instead.",
     "output_type": "error",
     "traceback": [
      "\u001b[1;31m---------------------------------------------------------------------------\u001b[0m",
      "\u001b[1;31mRuntimeError\u001b[0m                              Traceback (most recent call last)",
      "\u001b[1;32m<ipython-input-14-4ec109debb8c>\u001b[0m in \u001b[0;36m<module>\u001b[1;34m\u001b[0m\n\u001b[1;32m----> 1\u001b[1;33m \u001b[0mmodel\u001b[0m\u001b[1;33m(\u001b[0m\u001b[0minputs\u001b[0m\u001b[1;33m)\u001b[0m\u001b[1;33m.\u001b[0m\u001b[0mnumpy\u001b[0m\u001b[1;33m(\u001b[0m\u001b[1;33m)\u001b[0m\u001b[1;33m\u001b[0m\u001b[1;33m\u001b[0m\u001b[0m\n\u001b[0m",
      "\u001b[1;31mRuntimeError\u001b[0m: Can't call numpy() on Tensor that requires grad. Use tensor.detach().numpy() instead."
     ]
    }
   ],
   "source": [
    "model(inputs).numpy()"
   ]
  },
  {
   "cell_type": "code",
   "execution_count": 15,
   "metadata": {},
   "outputs": [
    {
     "data": {
      "text/plain": [
       "array([[-1.9400852 ],\n",
       "       [-0.9261651 ],\n",
       "       [-0.93839943],\n",
       "       [-0.29351985],\n",
       "       [-2.9396207 ],\n",
       "       [-0.7889812 ],\n",
       "       [-1.950851  ],\n",
       "       [-2.0278292 ],\n",
       "       [-1.7543029 ],\n",
       "       [ 0.5917475 ],\n",
       "       [ 0.47364175],\n",
       "       [-1.7095796 ],\n",
       "       [-0.7220119 ],\n",
       "       [-1.7036304 ],\n",
       "       [-2.1148372 ],\n",
       "       [-3.1880827 ],\n",
       "       [-1.5003095 ],\n",
       "       [ 0.26672077],\n",
       "       [-2.2340136 ],\n",
       "       [-1.7417347 ]], dtype=float32)"
      ]
     },
     "execution_count": 15,
     "metadata": {},
     "output_type": "execute_result"
    }
   ],
   "source": [
    "with torch.no_grad():\n",
    "    out = model(inputs).numpy()\n",
    "out"
   ]
  },
  {
   "cell_type": "code",
   "execution_count": 16,
   "metadata": {},
   "outputs": [
    {
     "name": "stdout",
     "output_type": "stream",
     "text": [
      "[[0.3845907]] [-1.27377]\n"
     ]
    }
   ],
   "source": [
    "# synthetic data is useful because we know the answer\n",
    "# True values of (w, b) are (0.5, -1)\n",
    "\n",
    "# w:2D array\n",
    "w = model.weight.data.numpy()\n",
    "# b:1D array\n",
    "b = model.bias.data.numpy()\n",
    "print(w, b)"
   ]
  }
 ],
 "metadata": {
  "kernelspec": {
   "display_name": "Python 3",
   "language": "python",
   "name": "python3"
  },
  "language_info": {
   "codemirror_mode": {
    "name": "ipython",
    "version": 3
   },
   "file_extension": ".py",
   "mimetype": "text/x-python",
   "name": "python",
   "nbconvert_exporter": "python",
   "pygments_lexer": "ipython3",
   "version": "3.7.1"
  }
 },
 "nbformat": 4,
 "nbformat_minor": 4
}
